{
 "cells": [
  {
   "cell_type": "code",
   "execution_count": 1,
   "metadata": {
    "pycharm": {
     "name": "#%%\n"
    }
   },
   "outputs": [],
   "source": [
    "import pandas as pd\n",
    "import numpy as np\n",
    "from matplotlib import pyplot as plt\n",
    "import seaborn as sns\n",
    "from sklearn.preprocessing import StandardScaler\n",
    "plt.style.use('ggplot')"
   ]
  },
  {
   "cell_type": "code",
   "execution_count": 2,
   "metadata": {
    "pycharm": {
     "name": "#%%\n"
    }
   },
   "outputs": [],
   "source": [
    "from pydoc import help\n",
    "from scipy.stats import spearmanr\n",
    "from scipy.stats import pearsonr\n",
    "from scipy.stats import kendalltau"
   ]
  },
  {
   "cell_type": "code",
   "execution_count": 3,
   "metadata": {
    "pycharm": {
     "name": "#%%\n"
    }
   },
   "outputs": [],
   "source": [
    "df1 = pd.read_csv('data/time series 1.txt', sep=' ', header=None)\n",
    "df2 = pd.read_csv('data/time series 2.txt', sep=' ', header=None)\n",
    "df3 = pd.read_csv('data/time series 3.txt', sep=' ', header=None)"
   ]
  },
  {
   "cell_type": "code",
   "execution_count": 4,
   "metadata": {
    "pycharm": {
     "name": "#%%\n"
    }
   },
   "outputs": [
    {
     "name": "stdout",
     "output_type": "stream",
     "text": [
      "Spearmans correlation coefficient: 0.1128\n",
      "Samples are uncorrelated (fail to reject H0) p=0.3748\n"
     ]
    }
   ],
   "source": [
    "coef, p = spearmanr(df1, df2)\n",
    "print('Spearmans correlation coefficient: %.4f' % coef)\n",
    "# interpret the significance\n",
    "alpha = 0.05\n",
    "if p > alpha:\n",
    "\tprint('Samples are uncorrelated (fail to reject H0) p=%.4f' % p)\n",
    "else:\n",
    "\tprint('Samples are correlated (reject H0) p=%.4f' % p)"
   ]
  },
  {
   "cell_type": "code",
   "execution_count": 5,
   "metadata": {
    "pycharm": {
     "name": "#%%\n"
    }
   },
   "outputs": [
    {
     "name": "stdout",
     "output_type": "stream",
     "text": [
      "Spearmans correlation coefficient: 0.0723\n",
      "Samples are uncorrelated (fail to reject H0) p=0.5701\n"
     ]
    }
   ],
   "source": [
    "coef, p = spearmanr(df1, df3)\n",
    "print('Spearmans correlation coefficient: %.4f' % coef)\n",
    "# interpret the significance\n",
    "alpha = 0.05\n",
    "if p > alpha:\n",
    "\tprint('Samples are uncorrelated (fail to reject H0) p=%.4f' % p)\n",
    "else:\n",
    "\tprint('Samples are correlated (reject H0) p=%.4f' % p)"
   ]
  },
  {
   "cell_type": "code",
   "execution_count": 6,
   "metadata": {
    "pycharm": {
     "name": "#%%\n"
    }
   },
   "outputs": [
    {
     "name": "stdout",
     "output_type": "stream",
     "text": [
      "Spearmans correlation coefficient: 0.0455\n",
      "Samples are uncorrelated (fail to reject H0) p=0.7211\n"
     ]
    }
   ],
   "source": [
    "coef, p = spearmanr(df2, df3)\n",
    "print('Spearmans correlation coefficient: %.4f' % coef)\n",
    "# interpret the significance\n",
    "alpha = 0.05\n",
    "if p > alpha:\n",
    "\tprint('Samples are uncorrelated (fail to reject H0) p=%.4f' % p)\n",
    "else:\n",
    "\tprint('Samples are correlated (reject H0) p=%.4f' % p)"
   ]
  },
  {
   "cell_type": "code",
   "execution_count": 7,
   "metadata": {
    "pycharm": {
     "name": "#%%\n"
    }
   },
   "outputs": [
    {
     "name": "stdout",
     "output_type": "stream",
     "text": [
      "Pearson correlation between df1 and df2: 0.1509\n"
     ]
    }
   ],
   "source": [
    "n = 64\n",
    "miu_df1 = sum(df1.values) / n\n",
    "miu_df2 = sum(df2.values) / n\n",
    "stdev_df1 = (sum([(i - miu_df1)**2 for i in df1.values]) / n)**0.5\n",
    "stdev_df2 = (sum([(i - miu_df2)**2 for i in df2.values]) / n)**0.5\n",
    "covariance = sum([(df1.values[i] - miu_df1) * (df2.values[i] - miu_df2) for i in range(n)])\n",
    "pearson_coefficient = covariance / (n * stdev_df1 * stdev_df2)\n",
    "print('Pearson correlation between df1 and df2: %.4f' % pearson_coefficient[0])"
   ]
  },
  {
   "cell_type": "code",
   "execution_count": 8,
   "metadata": {
    "pycharm": {
     "name": "#%%\n"
    }
   },
   "outputs": [
    {
     "name": "stdout",
     "output_type": "stream",
     "text": [
      "Pearson correlation between df1 and df3: 0.4225\n"
     ]
    }
   ],
   "source": [
    "miu_df1 = sum(df1.values) / n\n",
    "miu_df3 = sum(df3.values) / n\n",
    "stdev_df1 = (sum([(i - miu_df1)**2 for i in df1.values]) / n)**0.5\n",
    "stdev_df3 = (sum([(i - miu_df3)**2 for i in df3.values]) / n)**0.5\n",
    "covariance = sum([(df1.values[i] - miu_df1) * (df3.values[i] - miu_df3) for i in range(n)])\n",
    "pearson_coefficient = covariance / (n * stdev_df1 * stdev_df3)\n",
    "print('Pearson correlation between df1 and df3: %.4f' % pearson_coefficient[0])"
   ]
  },
  {
   "cell_type": "code",
   "execution_count": 9,
   "metadata": {
    "pycharm": {
     "name": "#%%\n"
    }
   },
   "outputs": [
    {
     "name": "stdout",
     "output_type": "stream",
     "text": [
      "Pearson correlation between df2 and df3: 0.1399\n"
     ]
    }
   ],
   "source": [
    "miu_df2 = sum(df2.values) / n\n",
    "miu_df3 = sum(df3.values) / n\n",
    "stdev_df2 = (sum([(i - miu_df2)**2 for i in df2.values]) / n)**0.5\n",
    "stdev_df3 = (sum([(i - miu_df3)**2 for i in df3.values]) / n)**0.5\n",
    "covariance = sum([(df2.values[i] - miu_df2) * (df3.values[i] - miu_df3) for i in range(n)])\n",
    "pearson_coefficient = covariance / (n * stdev_df2 * stdev_df3)\n",
    "print('Pearson correlation between df2 and df3: %.4f' % pearson_coefficient[0])"
   ]
  },
  {
   "cell_type": "code",
   "execution_count": 10,
   "metadata": {
    "pycharm": {
     "name": "#%%\n"
    }
   },
   "outputs": [
    {
     "name": "stdout",
     "output_type": "stream",
     "text": [
      "Pearson correlation coefficient: 0.0455\n",
      "Samples are uncorrelated (fail to reject H0) p=0.2338\n"
     ]
    }
   ],
   "source": [
    "pear, pr = pearsonr(df1[0].tolist(), df2[0].tolist())\n",
    "print('Pearson correlation coefficient: %.4f' % coef)\n",
    "# interpret the significance\n",
    "alpha = 0.05\n",
    "if p > alpha:\n",
    "\tprint('Samples are uncorrelated (fail to reject H0) p=%.4f' % pr)\n",
    "else:\n",
    "\tprint('Samples are correlated (reject H0) p=%.4f' % pr)"
   ]
  },
  {
   "cell_type": "code",
   "execution_count": 11,
   "metadata": {
    "pycharm": {
     "name": "#%%\n"
    }
   },
   "outputs": [
    {
     "name": "stdout",
     "output_type": "stream",
     "text": [
      "Pearson correlation coefficient: 0.0455\n",
      "Samples are uncorrelated (fail to reject H0) p=0.0005\n"
     ]
    }
   ],
   "source": [
    "pear, pr = pearsonr(df1[0].tolist(), df3[0].tolist())\n",
    "print('Pearson correlation coefficient: %.4f' % coef)\n",
    "# interpret the significance\n",
    "alpha = 0.05\n",
    "if p > alpha:\n",
    "\tprint('Samples are uncorrelated (fail to reject H0) p=%.4f' % pr)\n",
    "else:\n",
    "\tprint('Samples are correlated (reject H0) p=%.4f' % pr)"
   ]
  },
  {
   "cell_type": "code",
   "execution_count": 12,
   "metadata": {
    "pycharm": {
     "name": "#%%\n"
    }
   },
   "outputs": [
    {
     "name": "stdout",
     "output_type": "stream",
     "text": [
      "Pearson correlation coefficient: 0.0455\n",
      "Samples are uncorrelated (fail to reject H0) p=0.2703\n"
     ]
    }
   ],
   "source": [
    "pear, pr = pearsonr(df2[0].tolist(), df3[0].tolist())\n",
    "print('Pearson correlation coefficient: %.4f' % coef)\n",
    "# interpret the significance\n",
    "alpha = 0.05\n",
    "if p > alpha:\n",
    "\tprint('Samples are uncorrelated (fail to reject H0) p=%.4f' % pr)\n",
    "else:\n",
    "\tprint('Samples are correlated (reject H0) p=%.4f' % pr)"
   ]
  },
  {
   "cell_type": "markdown",
   "metadata": {},
   "source": [
    "# Задание 2"
   ]
  },
  {
   "cell_type": "code",
   "execution_count": 13,
   "metadata": {
    "pycharm": {
     "name": "#%%\n"
    }
   },
   "outputs": [
    {
     "data": {
      "text/html": [
       "<div>\n",
       "<style scoped>\n",
       "    .dataframe tbody tr th:only-of-type {\n",
       "        vertical-align: middle;\n",
       "    }\n",
       "\n",
       "    .dataframe tbody tr th {\n",
       "        vertical-align: top;\n",
       "    }\n",
       "\n",
       "    .dataframe thead th {\n",
       "        text-align: right;\n",
       "    }\n",
       "</style>\n",
       "<table border=\"1\" class=\"dataframe\">\n",
       "  <thead>\n",
       "    <tr style=\"text-align: right;\">\n",
       "      <th></th>\n",
       "      <th>0</th>\n",
       "      <th>1</th>\n",
       "    </tr>\n",
       "  </thead>\n",
       "  <tbody>\n",
       "    <tr>\n",
       "      <th>0</th>\n",
       "      <td>9.1636</td>\n",
       "      <td>6.3339</td>\n",
       "    </tr>\n",
       "    <tr>\n",
       "      <th>1</th>\n",
       "      <td>8.3872</td>\n",
       "      <td>1.6484</td>\n",
       "    </tr>\n",
       "    <tr>\n",
       "      <th>2</th>\n",
       "      <td>8.9726</td>\n",
       "      <td>2.0461</td>\n",
       "    </tr>\n",
       "    <tr>\n",
       "      <th>3</th>\n",
       "      <td>9.1139</td>\n",
       "      <td>2.1221</td>\n",
       "    </tr>\n",
       "    <tr>\n",
       "      <th>4</th>\n",
       "      <td>9.3257</td>\n",
       "      <td>6.6875</td>\n",
       "    </tr>\n",
       "    <tr>\n",
       "      <th>...</th>\n",
       "      <td>...</td>\n",
       "      <td>...</td>\n",
       "    </tr>\n",
       "    <tr>\n",
       "      <th>995</th>\n",
       "      <td>8.9654</td>\n",
       "      <td>2.0151</td>\n",
       "    </tr>\n",
       "    <tr>\n",
       "      <th>996</th>\n",
       "      <td>8.3680</td>\n",
       "      <td>1.6844</td>\n",
       "    </tr>\n",
       "    <tr>\n",
       "      <th>997</th>\n",
       "      <td>8.2343</td>\n",
       "      <td>1.5666</td>\n",
       "    </tr>\n",
       "    <tr>\n",
       "      <th>998</th>\n",
       "      <td>8.1887</td>\n",
       "      <td>4.5177</td>\n",
       "    </tr>\n",
       "    <tr>\n",
       "      <th>999</th>\n",
       "      <td>8.5591</td>\n",
       "      <td>5.1374</td>\n",
       "    </tr>\n",
       "  </tbody>\n",
       "</table>\n",
       "<p>1000 rows × 2 columns</p>\n",
       "</div>"
      ],
      "text/plain": [
       "          0       1\n",
       "0    9.1636  6.3339\n",
       "1    8.3872  1.6484\n",
       "2    8.9726  2.0461\n",
       "3    9.1139  2.1221\n",
       "4    9.3257  6.6875\n",
       "..      ...     ...\n",
       "995  8.9654  2.0151\n",
       "996  8.3680  1.6844\n",
       "997  8.2343  1.5666\n",
       "998  8.1887  4.5177\n",
       "999  8.5591  5.1374\n",
       "\n",
       "[1000 rows x 2 columns]"
      ]
     },
     "execution_count": 13,
     "metadata": {},
     "output_type": "execute_result"
    }
   ],
   "source": [
    "df4 = pd.read_csv('data/Домашнее задание 3_вар2.txt', header=None, sep=' ')\n",
    "df4.dropna(axis=1, inplace=True)\n",
    "df4.columns = [0, 1]\n",
    "df4"
   ]
  },
  {
   "cell_type": "markdown",
   "metadata": {},
   "source": [
    "# Метод кластеризации"
   ]
  },
  {
   "cell_type": "code",
   "execution_count": 14,
   "metadata": {
    "pycharm": {
     "name": "#%%\n"
    }
   },
   "outputs": [],
   "source": [
    "def do_clustering(cluster_datasets, method):\n",
    "    \"\"\"\n",
    "    Выполнение кластеризации для данных примера\n",
    "    \"\"\"\n",
    "    cluster_result = method.fit(cluster_datasets)\n",
    "    return cluster_result"
   ]
  },
  {
   "cell_type": "code",
   "execution_count": 15,
   "metadata": {
    "pycharm": {
     "name": "#%%\n"
    }
   },
   "outputs": [
    {
     "name": "stdout",
     "output_type": "stream",
     "text": [
      "CPU times: user 17 ms, sys: 387 µs, total: 17.4 ms\n",
      "Wall time: 17.4 ms\n",
      "CPU times: user 47.5 ms, sys: 13.4 ms, total: 60.9 ms\n",
      "Wall time: 41.9 ms\n",
      "CPU times: user 22.8 ms, sys: 3.41 ms, total: 26.2 ms\n",
      "Wall time: 25.4 ms\n"
     ]
    }
   ],
   "source": [
    "from sklearn.cluster import KMeans, Birch, AgglomerativeClustering\n",
    "from sklearn.metrics import davies_bouldin_score, silhouette_score\n",
    "%time result_KMeans_2 = do_clustering(df4, KMeans(n_clusters=2))\n",
    "%time result_Birch_2 = do_clustering(df4, Birch(n_clusters=2))\n",
    "%time result_Agg = do_clustering(df4, AgglomerativeClustering(n_clusters=2))"
   ]
  },
  {
   "cell_type": "code",
   "execution_count": 16,
   "metadata": {
    "pycharm": {
     "name": "#%%\n"
    }
   },
   "outputs": [],
   "source": [
    "from itertools import cycle, islice\n",
    "\n",
    "def visualize_clusters(cluster_data, cluster_results):\n",
    "    \"\"\"\n",
    "    Визуализация результатов кластерного анализа\n",
    "    \"\"\"\n",
    "    plt.subplots(figsize=(10,6))\n",
    "    plt.scatter(cluster_data[0], cluster_data[1],\n",
    "                c=cluster_results.labels_)\n",
    "    plt.xlabel(\"Первый столбец\")\n",
    "    plt.ylabel(\"Второй столбец\")\n",
    "\n",
    "    plt.show()"
   ]
  },
  {
   "cell_type": "markdown",
   "metadata": {},
   "source": [
    "# Визуализация и оценка метода Birch"
   ]
  },
  {
   "cell_type": "code",
   "execution_count": 17,
   "metadata": {
    "pycharm": {
     "name": "#%%\n"
    }
   },
   "outputs": [
    {
     "data": {
      "image/png": "[encoded data removed]",
      "text/plain": [
       "<Figure size 720x432 with 1 Axes>"
      ]
     },
     "metadata": {},
     "output_type": "display_data"
    }
   ],
   "source": [
    "visualize_clusters(df4, result_Birch_2)"
   ]
  },
  {
   "cell_type": "markdown",
   "metadata": {},
   "source": [
    "# Оценка качества кластеризации"
   ]
  },
  {
   "cell_type": "code",
   "execution_count": 18,
   "metadata": {
    "pycharm": {
     "name": "#%%\n"
    }
   },
   "outputs": [
    {
     "data": {
      "text/plain": [
       "0.4400801356973125"
      ]
     },
     "execution_count": 18,
     "metadata": {},
     "output_type": "execute_result"
    }
   ],
   "source": [
    "davies_bouldin_score(df4, result_Birch_2.labels_)"
   ]
  },
  {
   "cell_type": "code",
   "execution_count": 19,
   "metadata": {
    "pycharm": {
     "name": "#%%\n"
    }
   },
   "outputs": [
    {
     "data": {
      "text/plain": [
       "0.7015748031969231"
      ]
     },
     "execution_count": 19,
     "metadata": {},
     "output_type": "execute_result"
    }
   ],
   "source": [
    "silhouette_score(df4, result_Birch_2.labels_)"
   ]
  },
  {
   "cell_type": "markdown",
   "metadata": {},
   "source": [
    "# Визуализация и оценка метода KMeans"
   ]
  },
  {
   "cell_type": "code",
   "execution_count": 20,
   "metadata": {
    "pycharm": {
     "name": "#%%\n"
    }
   },
   "outputs": [
    {
     "data": {
      "image/png": "[encoded data removed]",
      "text/plain": [
       "<Figure size 720x432 with 1 Axes>"
      ]
     },
     "metadata": {},
     "output_type": "display_data"
    }
   ],
   "source": [
    "visualize_clusters(df4, result_KMeans_2)"
   ]
  },
  {
   "cell_type": "markdown",
   "metadata": {},
   "source": [
    " ## Оценка качества кластеризации"
   ]
  },
  {
   "cell_type": "code",
   "execution_count": 21,
   "metadata": {
    "pycharm": {
     "name": "#%%\n"
    }
   },
   "outputs": [
    {
     "data": {
      "text/plain": [
       "0.7015748031969231"
      ]
     },
     "execution_count": 21,
     "metadata": {},
     "output_type": "execute_result"
    }
   ],
   "source": [
    "silhouette_score(df4, result_KMeans_2.labels_)"
   ]
  },
  {
   "cell_type": "code",
   "execution_count": 22,
   "metadata": {
    "pycharm": {
     "name": "#%%\n"
    }
   },
   "outputs": [
    {
     "data": {
      "text/plain": [
       "0.4400801356973125"
      ]
     },
     "execution_count": 22,
     "metadata": {},
     "output_type": "execute_result"
    }
   ],
   "source": [
    "davies_bouldin_score(df4, result_KMeans_2.labels_)\n"
   ]
  },
  {
   "cell_type": "markdown",
   "metadata": {},
   "source": [
    "# Визуализация и оценка метода AgglomerativeClustering"
   ]
  },
  {
   "cell_type": "code",
   "execution_count": 23,
   "metadata": {
    "pycharm": {
     "name": "#%%\n"
    }
   },
   "outputs": [
    {
     "data": {
      "image/png": "[encoded data removed]",
      "text/plain": [
       "<Figure size 720x432 with 1 Axes>"
      ]
     },
     "metadata": {},
     "output_type": "display_data"
    }
   ],
   "source": [
    "visualize_clusters(df4, result_Agg)"
   ]
  },
  {
   "cell_type": "code",
   "execution_count": 25,
   "metadata": {
    "pycharm": {
     "name": "#%%\n"
    }
   },
   "outputs": [
    {
     "data": {
      "text/plain": [
       "0.7015748031969231"
      ]
     },
     "execution_count": 25,
     "metadata": {},
     "output_type": "execute_result"
    }
   ],
   "source": [
    "silhouette_score(df4, result_Agg.labels_)"
   ]
  },
  {
   "cell_type": "code",
   "execution_count": 26,
   "metadata": {
    "pycharm": {
     "name": "#%%\n"
    }
   },
   "outputs": [
    {
     "data": {
      "text/plain": [
       "0.4400801356973125"
      ]
     },
     "execution_count": 26,
     "metadata": {},
     "output_type": "execute_result"
    }
   ],
   "source": [
    "davies_bouldin_score(df4, result_Agg.labels_)"
   ]
  },
  {
   "cell_type": "markdown",
   "metadata": {
    "pycharm": {
     "name": "#%% md\n"
    }
   },
   "source": [
    "## Вывод: Выборка была разбита тремя разными способами, и качество разделения было проверено с помощью методов оценки качества.\n",
    "\n"
   ]
  }
 ],
 "metadata": {
  "kernelspec": {
   "display_name": "Python 3",
   "language": "python",
   "name": "python3"
  },
  "language_info": {
   "codemirror_mode": {
    "name": "ipython",
    "version": 3
   },
   "file_extension": ".py",
   "mimetype": "text/x-python",
   "name": "python",
   "nbconvert_exporter": "python",
   "pygments_lexer": "ipython3",
   "version": "3.8.5"
  }
 },
 "nbformat": 4,
 "nbformat_minor": 4
}
